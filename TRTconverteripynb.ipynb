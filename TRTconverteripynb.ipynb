{
  "nbformat": 4,
  "nbformat_minor": 0,
  "metadata": {
    "colab": {
      "provenance": [],
      "gpuType": "T4"
    },
    "kernelspec": {
      "name": "python3",
      "display_name": "Python 3"
    },
    "language_info": {
      "name": "python"
    },
    "accelerator": "GPU"
  },
  "cells": [
    {
      "cell_type": "code",
      "execution_count": 1,
      "metadata": {
        "colab": {
          "base_uri": "https://localhost:8080/"
        },
        "id": "-H6kL1rzp2GT",
        "outputId": "a0e48a01-f944-478d-9907-b4e33b2afa9b"
      },
      "outputs": [
        {
          "output_type": "stream",
          "name": "stdout",
          "text": [
            "Cloning into 'torch2trt'...\n",
            "remote: Enumerating objects: 4452, done.\u001b[K\n",
            "remote: Counting objects: 100% (766/766), done.\u001b[K\n",
            "remote: Compressing objects: 100% (158/158), done.\u001b[K\n",
            "remote: Total 4452 (delta 650), reused 625 (delta 608), pack-reused 3686 (from 1)\u001b[K\n",
            "Receiving objects: 100% (4452/4452), 7.77 MiB | 13.27 MiB/s, done.\n",
            "Resolving deltas: 100% (2584/2584), done.\n"
          ]
        }
      ],
      "source": [
        "!git clone https://github.com/NVIDIA-AI-IOT/torch2trt"
      ]
    },
    {
      "cell_type": "code",
      "source": [
        "!pwd"
      ],
      "metadata": {
        "colab": {
          "base_uri": "https://localhost:8080/"
        },
        "id": "ZplTkZzaqA6m",
        "outputId": "72782457-a5eb-452f-9944-f41f6ffe4e81"
      },
      "execution_count": 2,
      "outputs": [
        {
          "output_type": "stream",
          "name": "stdout",
          "text": [
            "/content\n"
          ]
        }
      ]
    },
    {
      "cell_type": "code",
      "source": [
        "%cd torch2trt\n",
        "!pwd"
      ],
      "metadata": {
        "colab": {
          "base_uri": "https://localhost:8080/"
        },
        "id": "tiEAJQOiqt6V",
        "outputId": "dddac283-c201-4858-8ab4-addea416a1b3"
      },
      "execution_count": 3,
      "outputs": [
        {
          "output_type": "stream",
          "name": "stdout",
          "text": [
            "/content/torch2trt\n",
            "/content/torch2trt\n"
          ]
        }
      ]
    },
    {
      "cell_type": "code",
      "source": [
        "!pip install nvidia-pyindex\n",
        "!pip install nvidia-tensorrt"
      ],
      "metadata": {
        "colab": {
          "base_uri": "https://localhost:8080/"
        },
        "id": "eUDrtizRrdF6",
        "outputId": "b7d3fbf6-2ce5-40a6-9306-8c20b96ea493"
      },
      "execution_count": 4,
      "outputs": [
        {
          "output_type": "stream",
          "name": "stdout",
          "text": [
            "Collecting nvidia-pyindex\n",
            "  Downloading nvidia-pyindex-1.0.9.tar.gz (10 kB)\n",
            "  Preparing metadata (setup.py) ... \u001b[?25l\u001b[?25hdone\n",
            "Building wheels for collected packages: nvidia-pyindex\n",
            "  Building wheel for nvidia-pyindex (setup.py) ... \u001b[?25l\u001b[?25hdone\n",
            "  Created wheel for nvidia-pyindex: filename=nvidia_pyindex-1.0.9-py3-none-any.whl size=8419 sha256=545ac03629cf24fd68d64ae15a873195b3bed1bb19d51b4f3e902523ae22caaa\n",
            "  Stored in directory: /root/.cache/pip/wheels/49/d0/7d/b68b3665d16ee20355e65fb7ef48b7ca26533217d9f09924fe\n",
            "Successfully built nvidia-pyindex\n",
            "Installing collected packages: nvidia-pyindex\n",
            "Successfully installed nvidia-pyindex-1.0.9\n",
            "Collecting nvidia-tensorrt\n",
            "  Downloading nvidia_tensorrt-99.0.0-py3-none-manylinux_2_17_x86_64.whl.metadata (596 bytes)\n",
            "Collecting tensorrt (from nvidia-tensorrt)\n",
            "  Downloading tensorrt-10.9.0.34.tar.gz (40 kB)\n",
            "\u001b[2K     \u001b[90m━━━━━━━━━━━━━━━━━━━━━━━━━━━━━━━━━━━━━━━━\u001b[0m \u001b[32m40.7/40.7 kB\u001b[0m \u001b[31m1.7 MB/s\u001b[0m eta \u001b[36m0:00:00\u001b[0m\n",
            "\u001b[?25h  Preparing metadata (setup.py) ... \u001b[?25l\u001b[?25hdone\n",
            "Collecting tensorrt_cu12==10.9.0.34 (from tensorrt->nvidia-tensorrt)\n",
            "  Downloading tensorrt_cu12-10.9.0.34.tar.gz (18 kB)\n",
            "  Preparing metadata (setup.py) ... \u001b[?25l\u001b[?25hdone\n",
            "Collecting tensorrt_cu12_libs==10.9.0.34 (from tensorrt_cu12==10.9.0.34->tensorrt->nvidia-tensorrt)\n",
            "  Downloading tensorrt_cu12_libs-10.9.0.34.tar.gz (704 bytes)\n",
            "  Installing build dependencies ... \u001b[?25l\u001b[?25hdone\n",
            "  Getting requirements to build wheel ... \u001b[?25l\u001b[?25hdone\n",
            "  Preparing metadata (pyproject.toml) ... \u001b[?25l\u001b[?25hdone\n",
            "Collecting tensorrt_cu12_bindings==10.9.0.34 (from tensorrt_cu12==10.9.0.34->tensorrt->nvidia-tensorrt)\n",
            "  Downloading tensorrt_cu12_bindings-10.9.0.34-cp311-none-manylinux_2_28_x86_64.whl.metadata (606 bytes)\n",
            "Requirement already satisfied: nvidia-cuda-runtime-cu12 in /usr/local/lib/python3.11/dist-packages (from tensorrt_cu12_libs==10.9.0.34->tensorrt_cu12==10.9.0.34->tensorrt->nvidia-tensorrt) (12.5.82)\n",
            "Downloading nvidia_tensorrt-99.0.0-py3-none-manylinux_2_17_x86_64.whl (17 kB)\n",
            "Downloading tensorrt_cu12_bindings-10.9.0.34-cp311-none-manylinux_2_28_x86_64.whl (1.2 MB)\n",
            "\u001b[2K   \u001b[90m━━━━━━━━━━━━━━━━━━━━━━━━━━━━━━━━━━━━━━━━\u001b[0m \u001b[32m1.2/1.2 MB\u001b[0m \u001b[31m23.2 MB/s\u001b[0m eta \u001b[36m0:00:00\u001b[0m\n",
            "\u001b[?25hBuilding wheels for collected packages: tensorrt, tensorrt_cu12, tensorrt_cu12_libs\n",
            "  Building wheel for tensorrt (setup.py) ... \u001b[?25l\u001b[?25hdone\n",
            "  Created wheel for tensorrt: filename=tensorrt-10.9.0.34-py2.py3-none-any.whl size=46629 sha256=7206ac9345a00d62faf2e89fa773b2170e41295123ad026b7b1893cd342b85f7\n",
            "  Stored in directory: /root/.cache/pip/wheels/3a/4d/72/f28cb367f1435d026243047d4f60fde8f1c9cbb06a204f842f\n",
            "  Building wheel for tensorrt_cu12 (setup.py) ... \u001b[?25l\u001b[?25hdone\n",
            "  Created wheel for tensorrt_cu12: filename=tensorrt_cu12-10.9.0.34-py2.py3-none-any.whl size=17465 sha256=e360ca12d074959d813e402b1553a26d5c960e8014440dd77d3003eed7231e14\n",
            "  Stored in directory: /root/.cache/pip/wheels/75/09/76/6b405075fe4c04097f5713ec0a688df7892aaee823bc141952\n",
            "  Building wheel for tensorrt_cu12_libs (pyproject.toml) ... \u001b[?25l\u001b[?25hdone\n",
            "  Created wheel for tensorrt_cu12_libs: filename=tensorrt_cu12_libs-10.9.0.34-py2.py3-none-manylinux_2_28_x86_64.whl size=3103291777 sha256=4a82f0bda2874596f202f6edc8dae99b86a3c4ec2fa142a9c847c4d3a57864a0\n",
            "  Stored in directory: /root/.cache/pip/wheels/33/d0/06/35d7b3006eead25828debb658da848328ebfd38962a2bcd096\n",
            "Successfully built tensorrt tensorrt_cu12 tensorrt_cu12_libs\n",
            "Installing collected packages: tensorrt_cu12_bindings, tensorrt_cu12_libs, tensorrt_cu12, tensorrt, nvidia-tensorrt\n",
            "Successfully installed nvidia-tensorrt-99.0.0 tensorrt-10.9.0.34 tensorrt_cu12-10.9.0.34 tensorrt_cu12_bindings-10.9.0.34 tensorrt_cu12_libs-10.9.0.34\n"
          ]
        }
      ]
    },
    {
      "cell_type": "code",
      "source": [
        "!python setup.py install"
      ],
      "metadata": {
        "colab": {
          "base_uri": "https://localhost:8080/"
        },
        "id": "hXKESJb8qeBs",
        "outputId": "a6c8076f-b72d-4ef3-a416-b6bc414f4c93"
      },
      "execution_count": 5,
      "outputs": [
        {
          "output_type": "stream",
          "name": "stdout",
          "text": [
            "running install\n",
            "/usr/local/lib/python3.11/dist-packages/setuptools/_distutils/cmd.py:66: SetuptoolsDeprecationWarning: setup.py install is deprecated.\n",
            "!!\n",
            "\n",
            "        ********************************************************************************\n",
            "        Please avoid running ``setup.py`` directly.\n",
            "        Instead, use pypa/build, pypa/installer or other\n",
            "        standards-based tools.\n",
            "\n",
            "        See https://blog.ganssle.io/articles/2021/10/setup-py-deprecated.html for details.\n",
            "        ********************************************************************************\n",
            "\n",
            "!!\n",
            "  self.initialize_options()\n",
            "/usr/local/lib/python3.11/dist-packages/setuptools/_distutils/cmd.py:66: EasyInstallDeprecationWarning: easy_install command is deprecated.\n",
            "!!\n",
            "\n",
            "        ********************************************************************************\n",
            "        Please avoid running ``setup.py`` and ``easy_install``.\n",
            "        Instead, use pypa/build, pypa/installer or other\n",
            "        standards-based tools.\n",
            "\n",
            "        See https://github.com/pypa/setuptools/issues/917 for details.\n",
            "        ********************************************************************************\n",
            "\n",
            "!!\n",
            "  self.initialize_options()\n",
            "running bdist_egg\n",
            "running egg_info\n",
            "creating torch2trt.egg-info\n",
            "writing torch2trt.egg-info/PKG-INFO\n",
            "writing dependency_links to torch2trt.egg-info/dependency_links.txt\n",
            "writing top-level names to torch2trt.egg-info/top_level.txt\n",
            "writing manifest file 'torch2trt.egg-info/SOURCES.txt'\n",
            "reading manifest file 'torch2trt.egg-info/SOURCES.txt'\n",
            "adding license file 'LICENSE.md'\n",
            "writing manifest file 'torch2trt.egg-info/SOURCES.txt'\n",
            "installing library code to build/bdist.linux-x86_64/egg\n",
            "running install_lib\n",
            "running build_py\n",
            "creating build/lib/tests\n",
            "copying tests/__init__.py -> build/lib/tests\n",
            "creating build/lib/torch2trt\n",
            "copying torch2trt/dataset_calibrator.py -> build/lib/torch2trt\n",
            "copying torch2trt/dataset.py -> build/lib/torch2trt\n",
            "copying torch2trt/flatten_module.py -> build/lib/torch2trt\n",
            "copying torch2trt/trt_module.py -> build/lib/torch2trt\n",
            "copying torch2trt/utils.py -> build/lib/torch2trt\n",
            "copying torch2trt/__init__.py -> build/lib/torch2trt\n",
            "copying torch2trt/misc_utils.py -> build/lib/torch2trt\n",
            "copying torch2trt/version_utils.py -> build/lib/torch2trt\n",
            "copying torch2trt/test.py -> build/lib/torch2trt\n",
            "copying torch2trt/flattener.py -> build/lib/torch2trt\n",
            "copying torch2trt/torch2trt.py -> build/lib/torch2trt\n",
            "creating build/lib/tests/feature_tests\n",
            "copying tests/feature_tests/test_version_utils.py -> build/lib/tests/feature_tests\n",
            "copying tests/feature_tests/test_flatten_dynamic.py -> build/lib/tests/feature_tests\n",
            "copying tests/feature_tests/test_flatten_module.py -> build/lib/tests/feature_tests\n",
            "copying tests/feature_tests/__init__.py -> build/lib/tests/feature_tests\n",
            "copying tests/feature_tests/test_dynamic_shape.py -> build/lib/tests/feature_tests\n",
            "copying tests/feature_tests/test_flattener.py -> build/lib/tests/feature_tests\n",
            "copying tests/feature_tests/test_legacy_max_batch_size.py -> build/lib/tests/feature_tests\n",
            "copying tests/feature_tests/test_tensor_shape.py -> build/lib/tests/feature_tests\n",
            "copying tests/feature_tests/test_dataset.py -> build/lib/tests/feature_tests\n",
            "copying tests/feature_tests/test_interpolate_dynamic.py -> build/lib/tests/feature_tests\n",
            "copying tests/feature_tests/test_tensor_ne.py -> build/lib/tests/feature_tests\n",
            "copying tests/feature_tests/test_contiguous.py -> build/lib/tests/feature_tests\n",
            "copying tests/feature_tests/test_tensor_shape_div_batch.py -> build/lib/tests/feature_tests\n",
            "copying tests/feature_tests/test_save_load.py -> build/lib/tests/feature_tests\n",
            "copying tests/feature_tests/test_dataset_calibrator.py -> build/lib/tests/feature_tests\n",
            "creating build/lib/tests/converter_tests\n",
            "copying tests/converter_tests/test_converters.py -> build/lib/tests/converter_tests\n",
            "copying tests/converter_tests/__init__.py -> build/lib/tests/converter_tests\n",
            "copying tests/converter_tests/test_getitem.py -> build/lib/tests/converter_tests\n",
            "creating build/lib/tests/model_tests\n",
            "copying tests/model_tests/__init__.py -> build/lib/tests/model_tests\n",
            "creating build/lib/tests/model_tests/torchvision\n",
            "copying tests/model_tests/torchvision/test_segmentation_models.py -> build/lib/tests/model_tests/torchvision\n",
            "copying tests/model_tests/torchvision/test_classification_models.py -> build/lib/tests/model_tests/torchvision\n",
            "copying tests/model_tests/torchvision/__init__.py -> build/lib/tests/model_tests/torchvision\n",
            "creating build/lib/tests/model_tests/timm\n",
            "copying tests/model_tests/timm/__init__.py -> build/lib/tests/model_tests/timm\n",
            "copying tests/model_tests/timm/test_maxvit.py -> build/lib/tests/model_tests/timm\n",
            "creating build/lib/torch2trt/contrib\n",
            "copying torch2trt/contrib/__init__.py -> build/lib/torch2trt/contrib\n",
            "creating build/lib/torch2trt/converters\n",
            "copying torch2trt/converters/native_converters.py -> build/lib/torch2trt/converters\n",
            "copying torch2trt/converters/__init__.py -> build/lib/torch2trt/converters\n",
            "copying torch2trt/converters/unimplemented_converters.py -> build/lib/torch2trt/converters\n",
            "copying torch2trt/converters/plugin_converters.py -> build/lib/torch2trt/converters\n",
            "creating build/lib/torch2trt/contrib/qat\n",
            "copying torch2trt/contrib/qat/__init__.py -> build/lib/torch2trt/contrib/qat\n",
            "creating build/lib/torch2trt/contrib/qat/layers\n",
            "copying torch2trt/contrib/qat/layers/__init__.py -> build/lib/torch2trt/contrib/qat/layers\n",
            "copying torch2trt/contrib/qat/layers/quant_activation.py -> build/lib/torch2trt/contrib/qat/layers\n",
            "copying torch2trt/contrib/qat/layers/_utils.py -> build/lib/torch2trt/contrib/qat/layers\n",
            "copying torch2trt/contrib/qat/layers/quant_conv.py -> build/lib/torch2trt/contrib/qat/layers\n",
            "creating build/lib/torch2trt/contrib/qat/converters\n",
            "copying torch2trt/contrib/qat/converters/QuantRelu.py -> build/lib/torch2trt/contrib/qat/converters\n",
            "copying torch2trt/contrib/qat/converters/__init__.py -> build/lib/torch2trt/contrib/qat/converters\n",
            "copying torch2trt/contrib/qat/converters/QuantConvBN.py -> build/lib/torch2trt/contrib/qat/converters\n",
            "copying torch2trt/contrib/qat/converters/QuantConv.py -> build/lib/torch2trt/contrib/qat/converters\n",
            "creating build/bdist.linux-x86_64/egg\n",
            "creating build/bdist.linux-x86_64/egg/tests\n",
            "creating build/bdist.linux-x86_64/egg/tests/feature_tests\n",
            "copying build/lib/tests/feature_tests/test_version_utils.py -> build/bdist.linux-x86_64/egg/tests/feature_tests\n",
            "copying build/lib/tests/feature_tests/test_flatten_dynamic.py -> build/bdist.linux-x86_64/egg/tests/feature_tests\n",
            "copying build/lib/tests/feature_tests/test_flatten_module.py -> build/bdist.linux-x86_64/egg/tests/feature_tests\n",
            "copying build/lib/tests/feature_tests/__init__.py -> build/bdist.linux-x86_64/egg/tests/feature_tests\n",
            "copying build/lib/tests/feature_tests/test_dynamic_shape.py -> build/bdist.linux-x86_64/egg/tests/feature_tests\n",
            "copying build/lib/tests/feature_tests/test_flattener.py -> build/bdist.linux-x86_64/egg/tests/feature_tests\n",
            "copying build/lib/tests/feature_tests/test_legacy_max_batch_size.py -> build/bdist.linux-x86_64/egg/tests/feature_tests\n",
            "copying build/lib/tests/feature_tests/test_tensor_shape.py -> build/bdist.linux-x86_64/egg/tests/feature_tests\n",
            "copying build/lib/tests/feature_tests/test_dataset.py -> build/bdist.linux-x86_64/egg/tests/feature_tests\n",
            "copying build/lib/tests/feature_tests/test_interpolate_dynamic.py -> build/bdist.linux-x86_64/egg/tests/feature_tests\n",
            "copying build/lib/tests/feature_tests/test_tensor_ne.py -> build/bdist.linux-x86_64/egg/tests/feature_tests\n",
            "copying build/lib/tests/feature_tests/test_contiguous.py -> build/bdist.linux-x86_64/egg/tests/feature_tests\n",
            "copying build/lib/tests/feature_tests/test_tensor_shape_div_batch.py -> build/bdist.linux-x86_64/egg/tests/feature_tests\n",
            "copying build/lib/tests/feature_tests/test_save_load.py -> build/bdist.linux-x86_64/egg/tests/feature_tests\n",
            "copying build/lib/tests/feature_tests/test_dataset_calibrator.py -> build/bdist.linux-x86_64/egg/tests/feature_tests\n",
            "copying build/lib/tests/__init__.py -> build/bdist.linux-x86_64/egg/tests\n",
            "creating build/bdist.linux-x86_64/egg/tests/converter_tests\n",
            "copying build/lib/tests/converter_tests/test_converters.py -> build/bdist.linux-x86_64/egg/tests/converter_tests\n",
            "copying build/lib/tests/converter_tests/__init__.py -> build/bdist.linux-x86_64/egg/tests/converter_tests\n",
            "copying build/lib/tests/converter_tests/test_getitem.py -> build/bdist.linux-x86_64/egg/tests/converter_tests\n",
            "creating build/bdist.linux-x86_64/egg/tests/model_tests\n",
            "creating build/bdist.linux-x86_64/egg/tests/model_tests/torchvision\n",
            "copying build/lib/tests/model_tests/torchvision/test_segmentation_models.py -> build/bdist.linux-x86_64/egg/tests/model_tests/torchvision\n",
            "copying build/lib/tests/model_tests/torchvision/test_classification_models.py -> build/bdist.linux-x86_64/egg/tests/model_tests/torchvision\n",
            "copying build/lib/tests/model_tests/torchvision/__init__.py -> build/bdist.linux-x86_64/egg/tests/model_tests/torchvision\n",
            "copying build/lib/tests/model_tests/__init__.py -> build/bdist.linux-x86_64/egg/tests/model_tests\n",
            "creating build/bdist.linux-x86_64/egg/tests/model_tests/timm\n",
            "copying build/lib/tests/model_tests/timm/__init__.py -> build/bdist.linux-x86_64/egg/tests/model_tests/timm\n",
            "copying build/lib/tests/model_tests/timm/test_maxvit.py -> build/bdist.linux-x86_64/egg/tests/model_tests/timm\n",
            "creating build/bdist.linux-x86_64/egg/torch2trt\n",
            "copying build/lib/torch2trt/dataset_calibrator.py -> build/bdist.linux-x86_64/egg/torch2trt\n",
            "copying build/lib/torch2trt/dataset.py -> build/bdist.linux-x86_64/egg/torch2trt\n",
            "creating build/bdist.linux-x86_64/egg/torch2trt/contrib\n",
            "copying build/lib/torch2trt/contrib/__init__.py -> build/bdist.linux-x86_64/egg/torch2trt/contrib\n",
            "creating build/bdist.linux-x86_64/egg/torch2trt/contrib/qat\n",
            "copying build/lib/torch2trt/contrib/qat/__init__.py -> build/bdist.linux-x86_64/egg/torch2trt/contrib/qat\n",
            "creating build/bdist.linux-x86_64/egg/torch2trt/contrib/qat/layers\n",
            "copying build/lib/torch2trt/contrib/qat/layers/__init__.py -> build/bdist.linux-x86_64/egg/torch2trt/contrib/qat/layers\n",
            "copying build/lib/torch2trt/contrib/qat/layers/quant_activation.py -> build/bdist.linux-x86_64/egg/torch2trt/contrib/qat/layers\n",
            "copying build/lib/torch2trt/contrib/qat/layers/_utils.py -> build/bdist.linux-x86_64/egg/torch2trt/contrib/qat/layers\n",
            "copying build/lib/torch2trt/contrib/qat/layers/quant_conv.py -> build/bdist.linux-x86_64/egg/torch2trt/contrib/qat/layers\n",
            "creating build/bdist.linux-x86_64/egg/torch2trt/contrib/qat/converters\n",
            "copying build/lib/torch2trt/contrib/qat/converters/QuantRelu.py -> build/bdist.linux-x86_64/egg/torch2trt/contrib/qat/converters\n",
            "copying build/lib/torch2trt/contrib/qat/converters/__init__.py -> build/bdist.linux-x86_64/egg/torch2trt/contrib/qat/converters\n",
            "copying build/lib/torch2trt/contrib/qat/converters/QuantConvBN.py -> build/bdist.linux-x86_64/egg/torch2trt/contrib/qat/converters\n",
            "copying build/lib/torch2trt/contrib/qat/converters/QuantConv.py -> build/bdist.linux-x86_64/egg/torch2trt/contrib/qat/converters\n",
            "copying build/lib/torch2trt/flatten_module.py -> build/bdist.linux-x86_64/egg/torch2trt\n",
            "copying build/lib/torch2trt/trt_module.py -> build/bdist.linux-x86_64/egg/torch2trt\n",
            "copying build/lib/torch2trt/utils.py -> build/bdist.linux-x86_64/egg/torch2trt\n",
            "copying build/lib/torch2trt/__init__.py -> build/bdist.linux-x86_64/egg/torch2trt\n",
            "copying build/lib/torch2trt/misc_utils.py -> build/bdist.linux-x86_64/egg/torch2trt\n",
            "copying build/lib/torch2trt/version_utils.py -> build/bdist.linux-x86_64/egg/torch2trt\n",
            "copying build/lib/torch2trt/test.py -> build/bdist.linux-x86_64/egg/torch2trt\n",
            "copying build/lib/torch2trt/flattener.py -> build/bdist.linux-x86_64/egg/torch2trt\n",
            "copying build/lib/torch2trt/torch2trt.py -> build/bdist.linux-x86_64/egg/torch2trt\n",
            "creating build/bdist.linux-x86_64/egg/torch2trt/converters\n",
            "copying build/lib/torch2trt/converters/native_converters.py -> build/bdist.linux-x86_64/egg/torch2trt/converters\n",
            "copying build/lib/torch2trt/converters/__init__.py -> build/bdist.linux-x86_64/egg/torch2trt/converters\n",
            "copying build/lib/torch2trt/converters/unimplemented_converters.py -> build/bdist.linux-x86_64/egg/torch2trt/converters\n",
            "copying build/lib/torch2trt/converters/plugin_converters.py -> build/bdist.linux-x86_64/egg/torch2trt/converters\n",
            "byte-compiling build/bdist.linux-x86_64/egg/tests/feature_tests/test_version_utils.py to test_version_utils.cpython-311.pyc\n",
            "byte-compiling build/bdist.linux-x86_64/egg/tests/feature_tests/test_flatten_dynamic.py to test_flatten_dynamic.cpython-311.pyc\n",
            "byte-compiling build/bdist.linux-x86_64/egg/tests/feature_tests/test_flatten_module.py to test_flatten_module.cpython-311.pyc\n",
            "byte-compiling build/bdist.linux-x86_64/egg/tests/feature_tests/__init__.py to __init__.cpython-311.pyc\n",
            "byte-compiling build/bdist.linux-x86_64/egg/tests/feature_tests/test_dynamic_shape.py to test_dynamic_shape.cpython-311.pyc\n",
            "byte-compiling build/bdist.linux-x86_64/egg/tests/feature_tests/test_flattener.py to test_flattener.cpython-311.pyc\n",
            "byte-compiling build/bdist.linux-x86_64/egg/tests/feature_tests/test_legacy_max_batch_size.py to test_legacy_max_batch_size.cpython-311.pyc\n",
            "byte-compiling build/bdist.linux-x86_64/egg/tests/feature_tests/test_tensor_shape.py to test_tensor_shape.cpython-311.pyc\n",
            "byte-compiling build/bdist.linux-x86_64/egg/tests/feature_tests/test_dataset.py to test_dataset.cpython-311.pyc\n",
            "byte-compiling build/bdist.linux-x86_64/egg/tests/feature_tests/test_interpolate_dynamic.py to test_interpolate_dynamic.cpython-311.pyc\n",
            "byte-compiling build/bdist.linux-x86_64/egg/tests/feature_tests/test_tensor_ne.py to test_tensor_ne.cpython-311.pyc\n",
            "byte-compiling build/bdist.linux-x86_64/egg/tests/feature_tests/test_contiguous.py to test_contiguous.cpython-311.pyc\n",
            "byte-compiling build/bdist.linux-x86_64/egg/tests/feature_tests/test_tensor_shape_div_batch.py to test_tensor_shape_div_batch.cpython-311.pyc\n",
            "byte-compiling build/bdist.linux-x86_64/egg/tests/feature_tests/test_save_load.py to test_save_load.cpython-311.pyc\n",
            "byte-compiling build/bdist.linux-x86_64/egg/tests/feature_tests/test_dataset_calibrator.py to test_dataset_calibrator.cpython-311.pyc\n",
            "byte-compiling build/bdist.linux-x86_64/egg/tests/__init__.py to __init__.cpython-311.pyc\n",
            "byte-compiling build/bdist.linux-x86_64/egg/tests/converter_tests/test_converters.py to test_converters.cpython-311.pyc\n",
            "byte-compiling build/bdist.linux-x86_64/egg/tests/converter_tests/__init__.py to __init__.cpython-311.pyc\n",
            "byte-compiling build/bdist.linux-x86_64/egg/tests/converter_tests/test_getitem.py to test_getitem.cpython-311.pyc\n",
            "byte-compiling build/bdist.linux-x86_64/egg/tests/model_tests/torchvision/test_segmentation_models.py to test_segmentation_models.cpython-311.pyc\n",
            "byte-compiling build/bdist.linux-x86_64/egg/tests/model_tests/torchvision/test_classification_models.py to test_classification_models.cpython-311.pyc\n",
            "byte-compiling build/bdist.linux-x86_64/egg/tests/model_tests/torchvision/__init__.py to __init__.cpython-311.pyc\n",
            "byte-compiling build/bdist.linux-x86_64/egg/tests/model_tests/__init__.py to __init__.cpython-311.pyc\n",
            "byte-compiling build/bdist.linux-x86_64/egg/tests/model_tests/timm/__init__.py to __init__.cpython-311.pyc\n",
            "byte-compiling build/bdist.linux-x86_64/egg/tests/model_tests/timm/test_maxvit.py to test_maxvit.cpython-311.pyc\n",
            "byte-compiling build/bdist.linux-x86_64/egg/torch2trt/dataset_calibrator.py to dataset_calibrator.cpython-311.pyc\n",
            "byte-compiling build/bdist.linux-x86_64/egg/torch2trt/dataset.py to dataset.cpython-311.pyc\n",
            "build/bdist.linux-x86_64/egg/torch2trt/dataset.py:61: SyntaxWarning: assertion is always true, perhaps remove parentheses?\n",
            "  assert(len(self) > 0, 'Cannot create default flattener without input data.')\n",
            "byte-compiling build/bdist.linux-x86_64/egg/torch2trt/contrib/__init__.py to __init__.cpython-311.pyc\n",
            "byte-compiling build/bdist.linux-x86_64/egg/torch2trt/contrib/qat/__init__.py to __init__.cpython-311.pyc\n",
            "byte-compiling build/bdist.linux-x86_64/egg/torch2trt/contrib/qat/layers/__init__.py to __init__.cpython-311.pyc\n",
            "byte-compiling build/bdist.linux-x86_64/egg/torch2trt/contrib/qat/layers/quant_activation.py to quant_activation.cpython-311.pyc\n",
            "byte-compiling build/bdist.linux-x86_64/egg/torch2trt/contrib/qat/layers/_utils.py to _utils.cpython-311.pyc\n",
            "byte-compiling build/bdist.linux-x86_64/egg/torch2trt/contrib/qat/layers/quant_conv.py to quant_conv.cpython-311.pyc\n",
            "byte-compiling build/bdist.linux-x86_64/egg/torch2trt/contrib/qat/converters/QuantRelu.py to QuantRelu.cpython-311.pyc\n",
            "byte-compiling build/bdist.linux-x86_64/egg/torch2trt/contrib/qat/converters/__init__.py to __init__.cpython-311.pyc\n",
            "byte-compiling build/bdist.linux-x86_64/egg/torch2trt/contrib/qat/converters/QuantConvBN.py to QuantConvBN.cpython-311.pyc\n",
            "byte-compiling build/bdist.linux-x86_64/egg/torch2trt/contrib/qat/converters/QuantConv.py to QuantConv.cpython-311.pyc\n",
            "byte-compiling build/bdist.linux-x86_64/egg/torch2trt/flatten_module.py to flatten_module.cpython-311.pyc\n",
            "byte-compiling build/bdist.linux-x86_64/egg/torch2trt/trt_module.py to trt_module.cpython-311.pyc\n",
            "byte-compiling build/bdist.linux-x86_64/egg/torch2trt/utils.py to utils.cpython-311.pyc\n",
            "byte-compiling build/bdist.linux-x86_64/egg/torch2trt/__init__.py to __init__.cpython-311.pyc\n",
            "byte-compiling build/bdist.linux-x86_64/egg/torch2trt/misc_utils.py to misc_utils.cpython-311.pyc\n",
            "byte-compiling build/bdist.linux-x86_64/egg/torch2trt/version_utils.py to version_utils.cpython-311.pyc\n",
            "byte-compiling build/bdist.linux-x86_64/egg/torch2trt/test.py to test.cpython-311.pyc\n",
            "byte-compiling build/bdist.linux-x86_64/egg/torch2trt/flattener.py to flattener.cpython-311.pyc\n",
            "byte-compiling build/bdist.linux-x86_64/egg/torch2trt/torch2trt.py to torch2trt.cpython-311.pyc\n",
            "byte-compiling build/bdist.linux-x86_64/egg/torch2trt/converters/native_converters.py to native_converters.cpython-311.pyc\n",
            "byte-compiling build/bdist.linux-x86_64/egg/torch2trt/converters/__init__.py to __init__.cpython-311.pyc\n",
            "byte-compiling build/bdist.linux-x86_64/egg/torch2trt/converters/unimplemented_converters.py to unimplemented_converters.cpython-311.pyc\n",
            "byte-compiling build/bdist.linux-x86_64/egg/torch2trt/converters/plugin_converters.py to plugin_converters.cpython-311.pyc\n",
            "creating build/bdist.linux-x86_64/egg/EGG-INFO\n",
            "copying torch2trt.egg-info/PKG-INFO -> build/bdist.linux-x86_64/egg/EGG-INFO\n",
            "copying torch2trt.egg-info/SOURCES.txt -> build/bdist.linux-x86_64/egg/EGG-INFO\n",
            "copying torch2trt.egg-info/dependency_links.txt -> build/bdist.linux-x86_64/egg/EGG-INFO\n",
            "copying torch2trt.egg-info/top_level.txt -> build/bdist.linux-x86_64/egg/EGG-INFO\n",
            "zip_safe flag not set; analyzing archive contents...\n",
            "torch2trt.contrib.qat.layers.__pycache__._utils.cpython-311: module MAY be using inspect.stack\n",
            "creating dist\n",
            "creating 'dist/torch2trt-0.5.0-py3.11.egg' and adding 'build/bdist.linux-x86_64/egg' to it\n",
            "removing 'build/bdist.linux-x86_64/egg' (and everything under it)\n",
            "Processing torch2trt-0.5.0-py3.11.egg\n",
            "creating /usr/local/lib/python3.11/dist-packages/torch2trt-0.5.0-py3.11.egg\n",
            "Extracting torch2trt-0.5.0-py3.11.egg to /usr/local/lib/python3.11/dist-packages\n",
            "/usr/local/lib/python3.11/dist-packages/torch2trt-0.5.0-py3.11.egg/torch2trt/dataset.py:61: SyntaxWarning: assertion is always true, perhaps remove parentheses?\n",
            "  assert(len(self) > 0, 'Cannot create default flattener without input data.')\n",
            "Adding torch2trt 0.5.0 to easy-install.pth file\n",
            "\n",
            "Installed /usr/local/lib/python3.11/dist-packages/torch2trt-0.5.0-py3.11.egg\n",
            "Processing dependencies for torch2trt==0.5.0\n",
            "Finished processing dependencies for torch2trt==0.5.0\n"
          ]
        }
      ]
    },
    {
      "cell_type": "code",
      "source": [
        "!nvcc --version"
      ],
      "metadata": {
        "colab": {
          "base_uri": "https://localhost:8080/"
        },
        "id": "IhqSM2DSsvT8",
        "outputId": "7e01193e-7840-44f0-f083-359a2331b12d"
      },
      "execution_count": 6,
      "outputs": [
        {
          "output_type": "stream",
          "name": "stdout",
          "text": [
            "nvcc: NVIDIA (R) Cuda compiler driver\n",
            "Copyright (c) 2005-2024 NVIDIA Corporation\n",
            "Built on Thu_Jun__6_02:18:23_PDT_2024\n",
            "Cuda compilation tools, release 12.5, V12.5.82\n",
            "Build cuda_12.5.r12.5/compiler.34385749_0\n"
          ]
        }
      ]
    },
    {
      "cell_type": "markdown",
      "source": [
        "#  *Initialize the Torch script Model and convert it to TRT*"
      ],
      "metadata": {
        "id": "pp2wQap1wpSo"
      }
    },
    {
      "cell_type": "code",
      "source": [
        "import torch\n",
        "from torch2trt import torch2trt\n",
        "from torchvision.models.alexnet import alexnet\n",
        "\n",
        "model = alexnet(pretrained=True).eval().cuda()\n",
        "x = torch.ones((1, 3, 224, 224)).cuda()\n",
        "\n",
        "model_trt = torch2trt(model, [x])\n",
        "output = model_trt(x)\n",
        "\n",
        "print(output)"
      ],
      "metadata": {
        "colab": {
          "base_uri": "https://localhost:8080/"
        },
        "id": "T_ec0_EEsC7J",
        "outputId": "5d7cab21-d743-4edf-b28d-e26070956efa"
      },
      "execution_count": 7,
      "outputs": [
        {
          "output_type": "stream",
          "name": "stderr",
          "text": [
            "/content/torch2trt/torch2trt/dataset.py:61: SyntaxWarning: assertion is always true, perhaps remove parentheses?\n",
            "  assert(len(self) > 0, 'Cannot create default flattener without input data.')\n",
            "/usr/local/lib/python3.11/dist-packages/torchvision/models/_utils.py:208: UserWarning: The parameter 'pretrained' is deprecated since 0.13 and may be removed in the future, please use 'weights' instead.\n",
            "  warnings.warn(\n",
            "/usr/local/lib/python3.11/dist-packages/torchvision/models/_utils.py:223: UserWarning: Arguments other than a weight enum or `None` for 'weights' are deprecated since 0.13 and may be removed in the future. The current behavior is equivalent to passing `weights=AlexNet_Weights.IMAGENET1K_V1`. You can also use `weights=AlexNet_Weights.DEFAULT` to get the most up-to-date weights.\n",
            "  warnings.warn(msg)\n",
            "Downloading: \"https://download.pytorch.org/models/alexnet-owt-7be5be79.pth\" to /root/.cache/torch/hub/checkpoints/alexnet-owt-7be5be79.pth\n",
            "100%|██████████| 233M/233M [00:01<00:00, 148MB/s]\n"
          ]
        },
        {
          "output_type": "stream",
          "name": "stdout",
          "text": [
            "tensor([[-7.2738e-01,  7.0841e-01, -1.8970e+00, -2.2324e+00, -1.0149e+00,\n",
            "         -4.1740e-02, -3.0589e+00, -3.0247e-01, -2.0701e+00,  8.3647e-02,\n",
            "          1.2743e+00,  2.5205e-01, -1.5499e-01, -2.9340e-01, -8.0138e-01,\n",
            "         -5.9930e-01,  7.0349e-01, -9.9760e-01, -5.5171e-01, -3.2086e-01,\n",
            "         -6.3853e-02,  2.4316e+00,  8.0240e-01, -1.3670e-01, -4.1883e-01,\n",
            "         -1.0419e+00, -2.1289e-01, -2.4734e-01, -1.6036e-01, -1.1309e-01,\n",
            "         -1.8674e+00, -4.4348e-01, -1.2191e+00, -9.6456e-01, -1.0950e+00,\n",
            "         -2.0937e+00, -1.5914e-02, -1.7214e+00,  1.5591e+00, -1.3778e+00,\n",
            "         -1.2479e+00, -3.8931e-01,  1.7555e+00,  1.6468e+00, -7.0668e-01,\n",
            "         -6.7062e-01, -9.4701e-01,  9.2945e-02, -2.2998e+00, -1.7518e+00,\n",
            "         -1.8119e+00, -5.8640e-01,  7.9322e-01, -1.1308e-02, -9.5599e-01,\n",
            "         -1.5117e+00, -7.0636e-01, -1.6750e+00, -4.4327e-01,  9.1808e-01,\n",
            "         -1.2962e+00, -1.4690e+00,  1.4365e-01,  1.2397e+00,  6.1044e-01,\n",
            "         -1.0518e-01,  4.5578e-01, -1.7757e+00,  4.3402e-01, -1.2001e+00,\n",
            "          3.3586e-01,  6.1077e-01, -8.4349e-02,  2.1198e+00, -5.5335e-01,\n",
            "          1.9160e+00, -1.6683e+00,  1.7666e-01,  2.2088e+00,  9.0947e-01,\n",
            "          1.9521e+00,  1.1816e+00, -6.0975e-01,  5.2853e-01, -1.8846e+00,\n",
            "         -4.6238e-01, -1.8605e-01,  4.1389e-01, -7.2154e-02, -4.2595e-01,\n",
            "         -6.1563e-01,  1.2547e+00,  1.0912e+00, -8.5209e-01, -4.4723e-01,\n",
            "          3.1717e-01, -2.1104e-01, -2.0517e+00,  1.2311e+00, -1.0919e+00,\n",
            "         -5.5156e-01, -1.7671e+00, -1.0127e+00,  1.7564e+00, -1.7312e+00,\n",
            "         -2.0822e+00, -1.0364e+00, -1.6083e+00, -3.1384e+00, -2.1436e+00,\n",
            "         -1.0489e+00,  2.5074e+00,  2.0934e-01,  1.9233e-01, -9.0086e-01,\n",
            "         -2.0779e+00, -8.8054e-01,  1.1788e+00, -1.8698e+00, -1.8535e+00,\n",
            "         -2.1268e-01, -2.0523e+00, -1.1357e+00, -1.8656e+00, -2.1291e+00,\n",
            "         -7.6015e-01,  8.9706e-01,  5.4524e-01,  1.7798e+00, -6.0799e-02,\n",
            "         -1.6963e+00, -1.2443e+00, -3.3527e-01, -1.5867e-01, -3.7387e-01,\n",
            "          3.0075e-01, -1.3761e+00, -6.0224e-01, -1.5873e+00, -4.5241e-01,\n",
            "          1.4273e-01, -7.2511e-03,  2.5634e-01,  1.0482e-01, -7.6571e-02,\n",
            "          7.3543e-01,  9.3973e-01, -1.2303e-01, -4.8362e-01,  5.3219e-02,\n",
            "         -2.8512e-01, -3.9778e-01,  2.5736e-01, -1.5539e-02, -6.3347e-01,\n",
            "         -1.2516e+00, -1.2406e-01,  2.3176e-01,  2.0199e-01, -1.1823e-01,\n",
            "         -1.4675e+00, -1.4568e+00, -1.1279e+00, -4.1333e-01, -3.3335e-01,\n",
            "         -4.4774e-01,  4.6195e-01, -2.2422e-01, -1.3939e-01, -1.3030e+00,\n",
            "         -4.8278e-01, -3.9345e-01, -1.0158e-01, -1.0132e+00, -2.4890e-01,\n",
            "         -8.2980e-02, -1.4442e+00, -8.5022e-01, -5.9933e-01, -1.4449e+00,\n",
            "         -1.7434e+00,  1.6417e-01, -1.5016e+00,  1.1375e-01, -2.5617e-01,\n",
            "         -5.3988e-01, -1.8467e-01, -7.4649e-02,  6.1632e-01, -2.1288e-01,\n",
            "          1.0401e+00, -9.6424e-01, -1.5637e+00, -3.7733e-01,  8.0264e-01,\n",
            "         -4.2250e-01, -1.3881e+00, -1.0694e+00, -9.0625e-01, -1.1541e+00,\n",
            "         -1.3070e-01, -1.6695e+00, -8.8310e-01, -1.1985e+00, -1.3652e+00,\n",
            "         -1.1251e+00,  2.4787e-01, -4.1497e-01, -1.3175e+00, -3.9149e-01,\n",
            "          6.8924e-01, -6.3251e-02, -4.3087e-01, -8.0007e-01, -4.8151e-01,\n",
            "         -1.5002e+00, -4.7105e-01, -1.3894e+00, -1.3692e+00, -1.3911e+00,\n",
            "          3.0555e-01, -1.6892e-01,  1.5089e-01, -1.8747e-01, -1.4563e+00,\n",
            "         -4.9871e-01, -1.0106e+00, -1.4055e+00,  7.5589e-01, -3.5490e-01,\n",
            "         -9.2303e-01, -1.1953e+00, -8.9835e-01, -1.2742e+00, -1.3384e+00,\n",
            "         -3.4158e-01, -2.5677e-01, -5.6628e-01, -4.5813e-01,  4.4959e-02,\n",
            "         -1.0443e+00, -2.5232e-01, -1.4844e+00, -1.1442e+00, -1.2787e+00,\n",
            "         -3.7286e-01, -7.3100e-01, -1.1460e+00, -3.2888e-01, -4.8428e-01,\n",
            "         -1.2548e+00, -3.1252e-01,  1.0144e-01,  7.8851e-02, -7.5709e-01,\n",
            "         -1.1905e+00, -4.7139e-01, -5.2854e-01,  6.9652e-01, -1.0688e-01,\n",
            "         -8.4563e-01, -1.2285e+00, -3.5406e-01, -5.4577e-01, -1.1067e+00,\n",
            "         -3.5175e-01, -4.7404e-01, -7.4754e-01, -6.2069e-01, -7.4293e-01,\n",
            "         -7.7479e-01, -1.5054e+00, -5.8142e-01,  2.5622e-01, -8.7879e-01,\n",
            "          1.1901e-01, -9.2228e-01, -7.1461e-03, -8.9159e-01,  1.6361e-01,\n",
            "         -7.8125e-01, -5.4325e-01, -1.2187e+00,  1.7190e-01,  3.2473e-01,\n",
            "          3.9183e-01, -2.3061e+00, -1.5043e+00, -8.7417e-01, -1.6510e+00,\n",
            "         -1.9717e+00,  3.5136e-02, -7.3226e-01,  2.4769e-01, -7.7889e-01,\n",
            "         -1.2879e+00, -3.8658e-01, -1.5090e+00,  2.9326e-01,  4.4726e-01,\n",
            "          1.7581e-01,  1.0071e+00,  9.7719e-01,  1.1175e+00, -4.2169e-01,\n",
            "         -1.7048e+00,  7.1765e-01,  8.0511e-02,  5.1623e-01, -1.2167e+00,\n",
            "          1.7876e+00, -5.2562e-01, -1.6735e-01, -1.9646e-01,  1.1281e+00,\n",
            "          3.4072e-01, -1.0652e-01, -1.4640e+00,  5.9408e-01,  9.0463e-01,\n",
            "          5.1865e-01, -1.0654e+00, -1.6815e+00, -7.2749e-01, -1.3326e+00,\n",
            "         -1.1827e+00,  3.8108e-01, -4.6199e-01, -1.4112e+00, -1.0679e+00,\n",
            "         -7.6939e-01,  3.9273e-01, -1.4013e-01, -1.5868e+00, -1.4990e+00,\n",
            "          1.2982e-01, -1.1784e+00, -4.5451e-01, -7.6887e-01, -8.4473e-01,\n",
            "         -1.7502e+00, -1.0429e+00, -1.3078e+00, -2.4049e+00, -1.7027e+00,\n",
            "         -1.4447e+00, -2.1143e+00, -7.4477e-01, -1.4836e+00, -8.2992e-01,\n",
            "          4.4442e-01,  4.8748e-01, -1.1660e+00, -1.3083e-02,  9.9814e-01,\n",
            "         -1.5222e+00,  7.9459e-01, -4.5896e-01,  3.2804e-01, -7.1465e-01,\n",
            "         -1.0797e+00, -8.7751e-01, -1.0244e+00, -1.1163e+00, -1.3097e+00,\n",
            "         -9.6268e-01, -1.7960e+00, -7.9867e-01, -8.2942e-01, -8.6899e-01,\n",
            "         -5.8501e-01, -3.9879e-01, -1.1477e+00, -1.0337e+00, -8.0771e-01,\n",
            "         -1.3218e+00, -4.7884e-01, -8.2215e-01, -9.8924e-01, -1.8016e+00,\n",
            "         -3.0746e-01, -1.5923e+00, -5.9969e-01, -2.4735e-01, -1.9539e+00,\n",
            "         -8.2544e-01, -1.0250e+00, -1.1530e+00, -1.8084e+00, -2.4141e-01,\n",
            "         -9.5965e-01, -1.3147e+00,  1.1657e-01, -3.0573e+00, -1.0595e+00,\n",
            "         -6.2620e-02, -2.4400e+00, -2.2116e+00, -1.9895e-01,  1.2727e+00,\n",
            "          5.4761e-01, -5.4658e-01,  9.9703e-01, -4.1394e-02,  1.7290e+00,\n",
            "          2.0496e+00, -1.9506e+00, -1.2591e+00, -1.1115e+00,  1.9736e+00,\n",
            "         -2.4860e+00,  6.5048e-01,  1.1483e+00,  1.7793e+00, -1.2027e-01,\n",
            "         -2.9169e+00,  1.0681e+00,  7.4564e-01,  2.6601e+00,  1.8504e+00,\n",
            "          5.3353e-01,  1.2103e-01,  8.1799e-01,  6.7505e-01, -1.7786e+00,\n",
            "         -1.0440e+00,  1.4129e+00,  1.0099e+00, -9.8355e-01,  8.2826e-01,\n",
            "          1.9216e-01, -3.7932e-01,  2.3994e+00,  6.5429e-01, -1.3926e+00,\n",
            "          7.9974e-01, -2.0468e-01,  1.0589e+00,  2.0929e+00,  2.9530e-01,\n",
            "          6.4150e-01,  8.7286e-01,  1.5640e-01,  5.2900e-01, -1.3455e+00,\n",
            "         -2.7461e-01,  2.8216e+00,  1.1063e+00, -5.9501e-02, -1.6260e-01,\n",
            "          3.0751e-01,  3.0165e+00,  1.3264e-01, -5.3299e-01, -3.0191e+00,\n",
            "          9.6260e-01,  8.9038e-01,  8.7198e-01, -1.6941e+00,  1.0744e+00,\n",
            "          1.0467e-01,  3.7414e-02,  2.0903e+00,  1.3547e-01,  8.9282e-01,\n",
            "          1.5654e+00, -2.8032e-01, -3.0204e+00, -2.1160e+00,  6.4569e-01,\n",
            "          1.0633e+00, -6.6174e-01, -9.0668e-01,  2.6845e+00, -4.4793e-01,\n",
            "         -1.5067e+00, -2.4598e+00,  5.0133e-01,  4.5464e-01, -9.1553e-01,\n",
            "         -6.1132e-02,  1.8810e+00,  1.0231e+00, -1.1910e+00,  8.1247e-01,\n",
            "          7.6560e-01,  6.2164e-01,  1.7497e+00,  2.2568e+00, -2.4415e+00,\n",
            "          8.0269e-01,  2.1801e+00,  2.8560e-01,  8.9384e-01,  1.8631e+00,\n",
            "         -6.0516e-01,  1.4547e-01, -1.1337e+00, -8.6347e-01,  3.4551e+00,\n",
            "         -2.9048e+00,  9.4097e-01,  8.9278e-01,  3.0124e+00,  1.0159e+00,\n",
            "          1.3004e+00,  3.1843e-01,  2.7250e+00, -1.0707e-01, -2.0767e+00,\n",
            "          1.6142e+00, -9.1183e-02,  2.0901e+00,  8.5510e-01,  1.2106e+00,\n",
            "         -1.9599e-01,  3.8760e-01,  7.9711e-01, -1.3723e-01,  1.1814e-01,\n",
            "          3.0322e-01,  9.4255e-01,  1.1566e+00,  6.6617e-01, -1.4406e-01,\n",
            "         -1.2007e+00,  3.1119e-01,  1.1531e+00,  3.2930e-01, -2.5781e-01,\n",
            "          1.1303e+00,  1.2251e+00,  8.9314e-01, -1.6472e+00,  3.9018e+00,\n",
            "         -8.5347e-01, -8.2706e-01,  1.3105e-01, -9.5616e-03, -1.1592e+00,\n",
            "          1.7602e+00,  4.3327e-01,  1.6439e+00,  1.5305e+00, -1.1082e+00,\n",
            "          1.3179e+00,  1.3480e+00, -2.4228e+00, -1.3821e-01,  2.5031e+00,\n",
            "          3.9557e-01,  1.8544e+00, -7.6376e-01,  2.0816e+00,  4.4776e-01,\n",
            "         -1.4443e+00,  2.9903e+00,  8.1018e-01,  1.6611e+00,  1.7385e+00,\n",
            "         -8.6689e-01, -1.7363e-01, -1.5451e+00,  1.8001e+00,  2.4577e-02,\n",
            "         -1.5032e+00,  1.4321e-01,  1.4018e+00, -4.3775e-01, -1.7026e+00,\n",
            "          3.9958e-01, -1.3043e+00,  1.8965e+00, -1.5101e+00,  1.6244e+00,\n",
            "         -8.8581e-01,  2.9914e-01,  1.5702e+00,  2.4510e-01, -2.7692e-01,\n",
            "         -2.6546e+00, -1.9665e+00, -2.4052e+00,  2.0222e+00,  2.5675e+00,\n",
            "          2.2894e+00, -6.9583e-01,  2.6049e+00,  1.0709e+00,  9.4457e-01,\n",
            "          1.2631e+00,  8.6537e-01,  1.3654e+00,  1.5970e+00,  5.5538e-01,\n",
            "         -1.0341e+00,  3.4621e+00, -4.9012e-01,  1.5253e+00,  4.3295e-01,\n",
            "          2.6541e+00,  1.7548e+00,  1.3226e+00, -1.8337e+00,  3.0472e+00,\n",
            "          1.9676e+00,  9.7296e-01, -1.1849e+00, -1.3368e+00, -1.3006e+00,\n",
            "          2.3596e+00,  7.2940e-03, -5.3878e-01,  1.0691e+00, -7.9087e-01,\n",
            "          1.0870e+00,  1.8788e+00,  1.4389e+00,  1.6013e+00,  1.9148e+00,\n",
            "          9.1791e-01, -6.7399e-01,  1.3798e+00,  3.5287e+00, -1.9475e+00,\n",
            "         -3.2394e-02,  2.3791e+00, -3.9656e-01,  9.3883e-01,  2.1365e+00,\n",
            "          1.1445e+00,  2.9301e+00,  1.5971e+00,  2.8366e+00, -2.2636e+00,\n",
            "          1.4162e+00,  1.1991e+00, -1.2574e+00,  5.2003e-01,  7.6558e-01,\n",
            "         -2.8495e+00,  2.2872e+00, -2.0278e-01, -5.3204e-01,  2.6393e+00,\n",
            "         -9.7095e-01, -1.1237e+00,  1.5320e+00,  1.0768e+00,  1.8702e-01,\n",
            "          1.5258e+00,  1.4133e+00, -6.4553e-01,  2.0137e+00, -1.1706e+00,\n",
            "         -2.6786e-01, -1.2091e+00,  4.0863e-01, -7.4470e-01,  6.4247e-02,\n",
            "          9.1922e-02, -1.9885e+00,  2.4439e+00,  8.5995e-01,  7.8906e-01,\n",
            "         -1.0674e+00,  1.9496e+00,  6.2553e-01,  2.6108e-01, -5.8512e-01,\n",
            "         -6.9764e-01, -1.2749e+00,  5.9888e-01,  1.4684e+00,  2.1986e+00,\n",
            "          3.8794e-01,  1.5461e+00,  2.9127e+00,  1.1559e+00,  6.0487e-01,\n",
            "          2.9364e+00,  1.5630e+00,  2.0957e-01,  3.6483e+00,  1.7731e+00,\n",
            "         -1.4351e+00,  3.1406e+00, -1.6549e+00, -6.6325e-01,  1.3732e+00,\n",
            "         -1.7805e+00,  7.7101e-01,  7.5222e-01,  6.8324e-01, -2.3090e-01,\n",
            "          1.0065e+00,  1.5091e+00, -5.7331e-01, -8.1780e-01,  2.5544e+00,\n",
            "          1.4011e+00,  2.1178e+00,  1.4022e+00, -2.1236e+00, -9.9830e-01,\n",
            "         -1.1997e+00, -1.4702e+00, -5.2301e-01,  2.8247e+00, -1.0445e+00,\n",
            "          2.0261e+00,  1.9511e+00,  1.0747e+00,  7.5519e-01,  2.4357e+00,\n",
            "          1.3476e+00, -8.6831e-01, -1.7807e+00,  6.5348e-01,  1.8967e+00,\n",
            "          2.1393e+00, -2.1617e+00,  2.2644e+00,  1.8599e+00,  1.0415e+00,\n",
            "          7.4532e-01,  1.2548e+00,  1.7020e-01, -3.8011e-01,  1.2197e+00,\n",
            "         -3.8800e-01,  3.3757e+00,  1.3785e+00,  1.2215e+00, -2.4828e+00,\n",
            "          4.0246e-01,  4.4210e-01,  9.9950e-01,  1.9795e-02, -3.2390e-01,\n",
            "          1.8391e+00, -7.7266e-01,  7.4073e-01, -7.3418e-01,  7.2248e-01,\n",
            "          1.7985e+00,  2.0335e+00,  1.4973e+00,  5.0529e-01,  1.6103e+00,\n",
            "         -5.2447e-01, -7.6116e-01,  4.9858e-01,  1.9441e+00,  1.2047e+00,\n",
            "          2.6294e-01, -2.8793e-01, -8.0918e-01,  1.4130e+00,  8.5415e-01,\n",
            "          1.4144e+00,  1.8762e+00, -1.0113e+00,  2.7810e+00,  3.9822e-01,\n",
            "          9.7657e-01, -1.1785e-01,  1.5850e+00, -1.6552e-02,  2.1557e+00,\n",
            "         -3.2856e-01,  1.9872e+00,  3.3077e+00,  5.8142e-01,  9.2166e-01,\n",
            "         -2.4639e-01,  1.8532e+00,  1.1399e+00,  1.0055e+00, -9.7889e-01,\n",
            "          7.8129e-01, -2.1787e-01,  2.1475e+00,  3.2678e+00,  2.4237e+00,\n",
            "         -1.6720e+00,  9.1998e-01, -4.3162e-01, -2.0728e+00,  1.3291e+00,\n",
            "          5.8883e-01, -9.5510e-01,  1.6843e+00,  2.7491e-01,  2.3593e-01,\n",
            "          5.0663e-01,  6.5470e-01, -2.2850e-01,  2.1476e+00, -6.4885e-01,\n",
            "         -1.5966e+00,  1.8115e-01,  7.4160e-02, -4.0202e-01,  2.8045e+00,\n",
            "          9.3379e-01,  1.1474e+00, -1.6180e-01,  1.4367e-01, -9.4528e-01,\n",
            "          2.4265e-01,  2.1711e+00,  2.1195e+00,  3.4810e+00,  3.4081e-01,\n",
            "         -2.6599e+00, -1.3180e-01, -8.4997e-01,  1.8229e+00, -1.0528e+00,\n",
            "         -1.2022e+00,  7.3826e-01, -5.9901e-01,  2.0712e+00, -1.2480e-01,\n",
            "         -1.5820e+00,  1.7290e+00,  4.6586e-01,  5.3176e-01, -2.2557e+00,\n",
            "          5.1335e-01,  1.5404e+00,  1.6920e-01,  7.3673e-01,  1.2897e+00,\n",
            "         -7.6843e-01,  1.4370e+00, -2.3885e-01,  3.0126e+00, -8.8984e-01,\n",
            "          1.1998e+00,  1.1302e+00,  1.3409e+00, -1.7742e+00,  3.1050e+00,\n",
            "          2.3511e+00,  3.7493e+00, -7.0281e-01,  1.1920e-01, -3.2543e-01,\n",
            "         -2.1019e-02,  1.5477e+00,  1.0771e+00, -1.1765e+00,  3.8432e-01,\n",
            "          2.3818e+00, -2.9702e-01,  3.2885e-01, -7.4209e-01,  1.4071e+00,\n",
            "          1.0009e-01,  2.2158e+00,  1.4715e+00, -2.8854e-02, -8.4320e-01,\n",
            "         -2.6898e+00, -1.2572e+00, -5.8476e-01,  3.3935e-02,  2.0481e+00,\n",
            "         -1.5686e+00,  7.7392e-01,  2.2245e+00, -1.0709e+00, -1.7760e+00,\n",
            "          9.5425e-01,  7.9201e-02, -1.7892e-02, -3.6042e-02,  3.5405e-01,\n",
            "          1.9677e-01, -2.0630e-01,  2.4138e-01,  1.4879e+00, -1.3674e+00,\n",
            "          1.0127e+00, -1.4916e+00, -3.2105e-01, -4.7332e-01, -4.3228e-02,\n",
            "         -3.9398e-01,  1.8963e+00,  3.1550e+00,  9.4241e-01,  1.2020e+00,\n",
            "          1.2479e+00,  1.4884e+00,  2.4185e+00,  1.3185e+00,  1.8791e+00,\n",
            "          1.5575e+00,  2.7493e+00,  3.1908e+00,  9.9709e-02,  4.4110e-02,\n",
            "          8.3144e-02,  2.1427e+00,  5.6262e-01, -6.9073e-01,  3.1147e-02,\n",
            "          9.0782e-01, -3.7261e-03, -6.5234e-01,  1.2058e-01,  1.1271e+00,\n",
            "         -1.4960e+00,  9.9065e-01, -6.8203e-01, -1.6719e-01,  7.0335e-01,\n",
            "          1.2939e+00,  1.7157e+00, -4.9491e-01,  3.2543e-01, -2.0362e+00,\n",
            "          8.5100e-01, -1.0205e+00, -1.1194e+00, -1.5600e+00, -7.9524e-01,\n",
            "         -9.2579e-01, -3.0938e-01, -1.0209e+00, -1.7784e+00, -1.3001e+00,\n",
            "         -2.1103e+00, -1.5528e+00, -1.1817e+00, -8.2206e-01, -1.4269e+00,\n",
            "          8.3814e-01, -2.3443e+00, -2.2511e-01, -8.4119e-01, -5.5531e-01,\n",
            "          3.6795e-01, -6.8132e-01, -1.6236e+00,  3.5033e-01,  9.8084e-01,\n",
            "         -1.6857e-01,  8.2362e-02, -1.8485e-01, -4.8525e-01,  2.0175e-01,\n",
            "         -1.9186e+00, -2.3267e-01,  2.5980e-02, -1.1135e+00, -7.8194e-01,\n",
            "          3.5245e-01, -1.5009e+00, -6.0995e-01, -3.0759e+00, -1.0819e+00,\n",
            "         -2.2779e+00,  9.3137e-01, -4.2633e-01,  1.5905e+00,  1.3972e+00,\n",
            "         -2.4576e-01, -1.0348e-01, -1.1994e+00, -3.3589e+00,  1.7181e+00,\n",
            "          2.4321e-01,  2.0253e-01,  8.5931e-01,  6.7429e-01, -1.4190e+00,\n",
            "          2.5980e-01, -7.2168e-01, -2.3825e+00, -1.7534e+00, -1.1888e+00,\n",
            "         -9.3637e-01, -1.7335e+00, -3.4586e-01, -1.4479e-01, -7.9821e-02,\n",
            "         -1.6300e-01, -2.6806e+00, -9.1063e-01, -9.2323e-01, -6.0233e-01,\n",
            "         -1.0612e+00, -1.1566e+00, -1.9357e+00, -7.1370e-01,  8.5300e-01]],\n",
            "       device='cuda:0')\n"
          ]
        }
      ]
    },
    {
      "cell_type": "markdown",
      "source": [
        "# ***Execute the TRT file***"
      ],
      "metadata": {
        "id": "xfhaOxTixCej"
      }
    },
    {
      "cell_type": "code",
      "source": [
        "y = model(x)\n",
        "y_trt = model_trt(x)\n",
        "\n",
        "print(torch.max(torch.abs(y - y_trt)))"
      ],
      "metadata": {
        "colab": {
          "base_uri": "https://localhost:8080/"
        },
        "id": "l-L1pJJcsDEi",
        "outputId": "d5cd9689-002c-4a3c-e7b1-d8fa8b7de45f"
      },
      "execution_count": 9,
      "outputs": [
        {
          "output_type": "stream",
          "name": "stdout",
          "text": [
            "tensor(1.6689e-06, device='cuda:0', grad_fn=<MaxBackward1>)\n"
          ]
        }
      ]
    },
    {
      "cell_type": "markdown",
      "source": [
        "#  ***Save and Load***"
      ],
      "metadata": {
        "id": "MadxPRLMwUc2"
      }
    },
    {
      "cell_type": "code",
      "source": [
        "torch.save(model_trt.state_dict(), 'alexnet_trt.pth')"
      ],
      "metadata": {
        "id": "4-p-KkxwsDHM"
      },
      "execution_count": 10,
      "outputs": []
    },
    {
      "cell_type": "markdown",
      "source": [
        "# ***Load the saved Torch script model into a TRTModule***\n"
      ],
      "metadata": {
        "id": "OrpqVnQbv5Z5"
      }
    },
    {
      "cell_type": "code",
      "source": [
        "from torch2trt import TRTModule\n",
        "\n",
        "model_trt = TRTModule()\n",
        "\n",
        "model_trt.load_state_dict(torch.load('alexnet_trt.pth'))"
      ],
      "metadata": {
        "colab": {
          "base_uri": "https://localhost:8080/"
        },
        "id": "dA_8fvmGt8A3",
        "outputId": "08efe1b7-3d62-4212-beed-08e5ebe6f5fa"
      },
      "execution_count": 11,
      "outputs": [
        {
          "output_type": "stream",
          "name": "stderr",
          "text": [
            "<ipython-input-11-131a1aa18e48>:5: FutureWarning: You are using `torch.load` with `weights_only=False` (the current default value), which uses the default pickle module implicitly. It is possible to construct malicious pickle data which will execute arbitrary code during unpickling (See https://github.com/pytorch/pytorch/blob/main/SECURITY.md#untrusted-models for more details). In a future release, the default value for `weights_only` will be flipped to `True`. This limits the functions that could be executed during unpickling. Arbitrary objects will no longer be allowed to be loaded via this mode unless they are explicitly allowlisted by the user via `torch.serialization.add_safe_globals`. We recommend you start setting `weights_only=True` for any use case where you don't have full control of the loaded file. Please open an issue on GitHub for any issues related to this experimental feature.\n",
            "  model_trt.load_state_dict(torch.load('alexnet_trt.pth'))\n"
          ]
        },
        {
          "output_type": "execute_result",
          "data": {
            "text/plain": [
              "<All keys matched successfully>"
            ]
          },
          "metadata": {},
          "execution_count": 11
        }
      ]
    }
  ]
}